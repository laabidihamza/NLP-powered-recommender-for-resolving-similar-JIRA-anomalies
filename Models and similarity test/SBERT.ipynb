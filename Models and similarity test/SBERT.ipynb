{
  "cells": [
    {
      "cell_type": "code",
      "execution_count": 1,
      "metadata": {},
      "outputs": [],
      "source": [
        "import pandas as pd"
      ]
    },
    {
      "cell_type": "code",
      "execution_count": 2,
      "metadata": {},
      "outputs": [
        {
          "data": {
            "text/html": [
              "<div>\n",
              "<style scoped>\n",
              "    .dataframe tbody tr th:only-of-type {\n",
              "        vertical-align: middle;\n",
              "    }\n",
              "\n",
              "    .dataframe tbody tr th {\n",
              "        vertical-align: top;\n",
              "    }\n",
              "\n",
              "    .dataframe thead th {\n",
              "        text-align: right;\n",
              "    }\n",
              "</style>\n",
              "<table border=\"1\" class=\"dataframe\">\n",
              "  <thead>\n",
              "    <tr style=\"text-align: right;\">\n",
              "      <th></th>\n",
              "      <th>Comment</th>\n",
              "      <th>Comment.1</th>\n",
              "      <th>Comment.2</th>\n",
              "      <th>Comment.3</th>\n",
              "      <th>Comment.4</th>\n",
              "      <th>Comment.5</th>\n",
              "      <th>Comment.6</th>\n",
              "      <th>Comment.7</th>\n",
              "      <th>Comment.8</th>\n",
              "      <th>Comment.9</th>\n",
              "      <th>...</th>\n",
              "      <th>Comment.52</th>\n",
              "      <th>Comment.53</th>\n",
              "      <th>Comment.54</th>\n",
              "      <th>Comment.55</th>\n",
              "      <th>Comment.56</th>\n",
              "      <th>Comment.57</th>\n",
              "      <th>Comment.58</th>\n",
              "      <th>Environment</th>\n",
              "      <th>Summary</th>\n",
              "      <th>Description</th>\n",
              "    </tr>\n",
              "  </thead>\n",
              "  <tbody>\n",
              "    <tr>\n",
              "      <th>0</th>\n",
              "      <td>I am running the command provided by the docum...</td>\n",
              "      <td>Hi [~accountid:6213cf7cc345490071968be0]  The ...</td>\n",
              "      <td>Ok, thanks for your reply. \\n\\nI had seen this...</td>\n",
              "      <td>NaN</td>\n",
              "      <td>NaN</td>\n",
              "      <td>NaN</td>\n",
              "      <td>NaN</td>\n",
              "      <td>NaN</td>\n",
              "      <td>NaN</td>\n",
              "      <td>NaN</td>\n",
              "      <td>...</td>\n",
              "      <td>NaN</td>\n",
              "      <td>NaN</td>\n",
              "      <td>NaN</td>\n",
              "      <td>NaN</td>\n",
              "      <td>NaN</td>\n",
              "      <td>NaN</td>\n",
              "      <td>NaN</td>\n",
              "      <td>version we are running is: Artifactory Online ...</td>\n",
              "      <td>plugin config-import not found for jfrog Artif...</td>\n",
              "      <td>I am following the steps from [https://docs.jf...</td>\n",
              "    </tr>\n",
              "    <tr>\n",
              "      <th>1</th>\n",
              "      <td>[https://jfrog.com/help/r/jfrog-release-inform...</td>\n",
              "      <td>*According to RTDEV-5069:*\\n\\nThe feature is s...</td>\n",
              "      <td>[~accountid:5f79a75eac3a2d006ffcc8b7] : \\n\\n* ...</td>\n",
              "      <td>[~accountid:5f79a75eac3a2d006ffcc8b7] We have ...</td>\n",
              "      <td>Since Composer *Virtual* Repository supports o...</td>\n",
              "      <td>NaN</td>\n",
              "      <td>NaN</td>\n",
              "      <td>NaN</td>\n",
              "      <td>NaN</td>\n",
              "      <td>NaN</td>\n",
              "      <td>...</td>\n",
              "      <td>NaN</td>\n",
              "      <td>NaN</td>\n",
              "      <td>NaN</td>\n",
              "      <td>NaN</td>\n",
              "      <td>NaN</td>\n",
              "      <td>NaN</td>\n",
              "      <td>NaN</td>\n",
              "      <td>NaN</td>\n",
              "      <td>RTDEV-5069 / mirroring https://asset-packagist...</td>\n",
              "      <td>We are running Artifactory 7.63.14 and have pr...</td>\n",
              "    </tr>\n",
              "    <tr>\n",
              "      <th>2</th>\n",
              "      <td>This is the current value I would like to chan...</td>\n",
              "      <td>[https://jfrog.atlassian.net/browse/RTFACT-154...</td>\n",
              "      <td>NaN</td>\n",
              "      <td>NaN</td>\n",
              "      <td>NaN</td>\n",
              "      <td>NaN</td>\n",
              "      <td>NaN</td>\n",
              "      <td>NaN</td>\n",
              "      <td>NaN</td>\n",
              "      <td>NaN</td>\n",
              "      <td>...</td>\n",
              "      <td>NaN</td>\n",
              "      <td>NaN</td>\n",
              "      <td>NaN</td>\n",
              "      <td>NaN</td>\n",
              "      <td>NaN</td>\n",
              "      <td>NaN</td>\n",
              "      <td>NaN</td>\n",
              "      <td>Developement and Production</td>\n",
              "      <td>Docker - Repository Default URL</td>\n",
              "      <td>Similar to Issue: [https://jfrog.atlassian.net...</td>\n",
              "    </tr>\n",
              "    <tr>\n",
              "      <th>3</th>\n",
              "      <td>Ik can get the manifest from the remote repo w...</td>\n",
              "      <td>NaN</td>\n",
              "      <td>NaN</td>\n",
              "      <td>NaN</td>\n",
              "      <td>NaN</td>\n",
              "      <td>NaN</td>\n",
              "      <td>NaN</td>\n",
              "      <td>NaN</td>\n",
              "      <td>NaN</td>\n",
              "      <td>NaN</td>\n",
              "      <td>...</td>\n",
              "      <td>NaN</td>\n",
              "      <td>NaN</td>\n",
              "      <td>NaN</td>\n",
              "      <td>NaN</td>\n",
              "      <td>NaN</td>\n",
              "      <td>NaN</td>\n",
              "      <td>NaN</td>\n",
              "      <td>Artifactory-pro 7.63.14 within a docker conta...</td>\n",
              "      <td>getting manifest unknown error pulling image</td>\n",
              "      <td>I am getting the following error when pulling ...</td>\n",
              "    </tr>\n",
              "    <tr>\n",
              "      <th>4</th>\n",
              "      <td>Corresponding Log record from nginx reverse pr...</td>\n",
              "      <td>NaN</td>\n",
              "      <td>NaN</td>\n",
              "      <td>NaN</td>\n",
              "      <td>NaN</td>\n",
              "      <td>NaN</td>\n",
              "      <td>NaN</td>\n",
              "      <td>NaN</td>\n",
              "      <td>NaN</td>\n",
              "      <td>NaN</td>\n",
              "      <td>...</td>\n",
              "      <td>NaN</td>\n",
              "      <td>NaN</td>\n",
              "      <td>NaN</td>\n",
              "      <td>NaN</td>\n",
              "      <td>NaN</td>\n",
              "      <td>NaN</td>\n",
              "      <td>NaN</td>\n",
              "      <td>Linux centos</td>\n",
              "      <td>Caught exception while saving incoming stream ...</td>\n",
              "      <td>We have recently upgrade Artifactory to 7.63.1...</td>\n",
              "    </tr>\n",
              "    <tr>\n",
              "      <th>...</th>\n",
              "      <td>...</td>\n",
              "      <td>...</td>\n",
              "      <td>...</td>\n",
              "      <td>...</td>\n",
              "      <td>...</td>\n",
              "      <td>...</td>\n",
              "      <td>...</td>\n",
              "      <td>...</td>\n",
              "      <td>...</td>\n",
              "      <td>...</td>\n",
              "      <td>...</td>\n",
              "      <td>...</td>\n",
              "      <td>...</td>\n",
              "      <td>...</td>\n",
              "      <td>...</td>\n",
              "      <td>...</td>\n",
              "      <td>...</td>\n",
              "      <td>...</td>\n",
              "      <td>...</td>\n",
              "      <td>...</td>\n",
              "      <td>...</td>\n",
              "    </tr>\n",
              "    <tr>\n",
              "      <th>10329</th>\n",
              "      <td>Going to need a little more information.  What...</td>\n",
              "      <td>I just tried to remove the {{id 'org.graalvm.b...</td>\n",
              "      <td>I did not say it is a problem in the plugin or...</td>\n",
              "      <td>Not able to use the sample project:\\n\\n{noform...</td>\n",
              "      <td>I got the previous error both (1) attempting t...</td>\n",
              "      <td>The project require Java 17 since Spring Boot ...</td>\n",
              "      <td>I did not.  That was not specified.  You said ...</td>\n",
              "      <td>{noformat}&gt; sdk use java 17.0.4.1-librca\\n\\nUs...</td>\n",
              "      <td>Sorry that’s due to a recent change in our sna...</td>\n",
              "      <td>Ok, I was able to reproduce it now.  Thanks.\\n...</td>\n",
              "      <td>...</td>\n",
              "      <td>NaN</td>\n",
              "      <td>NaN</td>\n",
              "      <td>NaN</td>\n",
              "      <td>NaN</td>\n",
              "      <td>NaN</td>\n",
              "      <td>NaN</td>\n",
              "      <td>NaN</td>\n",
              "      <td>Java 17</td>\n",
              "      <td>Gradle plugin should use full compilation clas...</td>\n",
              "      <td>[This Spring Boot 3 + Hibernate 6 sample|https...</td>\n",
              "    </tr>\n",
              "    <tr>\n",
              "      <th>10330</th>\n",
              "      <td>This is due to your use of {{not-found=”ignore...</td>\n",
              "      <td>I understand that this is unfortunate, but I d...</td>\n",
              "      <td>Thank you for the clarification.  \\nWhat is th...</td>\n",
              "      <td>You can read the documentation section on the ...</td>\n",
              "      <td>NaN</td>\n",
              "      <td>NaN</td>\n",
              "      <td>NaN</td>\n",
              "      <td>NaN</td>\n",
              "      <td>NaN</td>\n",
              "      <td>NaN</td>\n",
              "      <td>...</td>\n",
              "      <td>NaN</td>\n",
              "      <td>NaN</td>\n",
              "      <td>NaN</td>\n",
              "      <td>NaN</td>\n",
              "      <td>NaN</td>\n",
              "      <td>NaN</td>\n",
              "      <td>NaN</td>\n",
              "      <td>hibernate-orm: 5.3.21\\nJVM: OpenJDK Runtime En...</td>\n",
              "      <td>Illegal Update-Statement generated</td>\n",
              "      <td>The following Entities are given\\n\\n{noformat}...</td>\n",
              "    </tr>\n",
              "    <tr>\n",
              "      <th>10331</th>\n",
              "      <td>Just because we log the statements in an under...</td>\n",
              "      <td>NaN</td>\n",
              "      <td>NaN</td>\n",
              "      <td>NaN</td>\n",
              "      <td>NaN</td>\n",
              "      <td>NaN</td>\n",
              "      <td>NaN</td>\n",
              "      <td>NaN</td>\n",
              "      <td>NaN</td>\n",
              "      <td>NaN</td>\n",
              "      <td>...</td>\n",
              "      <td>NaN</td>\n",
              "      <td>NaN</td>\n",
              "      <td>NaN</td>\n",
              "      <td>NaN</td>\n",
              "      <td>NaN</td>\n",
              "      <td>NaN</td>\n",
              "      <td>NaN</td>\n",
              "      <td>NaN</td>\n",
              "      <td>Trying to accomplish Insert bulk query with hi...</td>\n",
              "      <td>We are working on a spring boot api which uses...</td>\n",
              "    </tr>\n",
              "    <tr>\n",
              "      <th>10332</th>\n",
              "      <td>Thanks for the report. I see that HANA only su...</td>\n",
              "      <td>Oh damn, this test is new. I guess it slipped ...</td>\n",
              "      <td>It started with the pull request [https://gith...</td>\n",
              "      <td>Don’t worry about this HANA issue. It has noth...</td>\n",
              "      <td>NaN</td>\n",
              "      <td>NaN</td>\n",
              "      <td>NaN</td>\n",
              "      <td>NaN</td>\n",
              "      <td>NaN</td>\n",
              "      <td>NaN</td>\n",
              "      <td>...</td>\n",
              "      <td>NaN</td>\n",
              "      <td>NaN</td>\n",
              "      <td>NaN</td>\n",
              "      <td>NaN</td>\n",
              "      <td>NaN</td>\n",
              "      <td>NaN</td>\n",
              "      <td>NaN</td>\n",
              "      <td>debian 11 \\njava 11\\nSAP Hana from the  docker...</td>\n",
              "      <td>Emulate lt/gt/le/ge tuple-comparisons when uns...</td>\n",
              "      <td>Execution of the  {{ ./gradlew clean test -Pdb...</td>\n",
              "    </tr>\n",
              "    <tr>\n",
              "      <th>10333</th>\n",
              "      <td>{code}\\n\\nand got the same error:\\n\\n{{Oct. 05...</td>\n",
              "      <td>NaN</td>\n",
              "      <td>NaN</td>\n",
              "      <td>NaN</td>\n",
              "      <td>NaN</td>\n",
              "      <td>NaN</td>\n",
              "      <td>NaN</td>\n",
              "      <td>NaN</td>\n",
              "      <td>NaN</td>\n",
              "      <td>NaN</td>\n",
              "      <td>...</td>\n",
              "      <td>NaN</td>\n",
              "      <td>NaN</td>\n",
              "      <td>NaN</td>\n",
              "      <td>NaN</td>\n",
              "      <td>NaN</td>\n",
              "      <td>NaN</td>\n",
              "      <td>NaN</td>\n",
              "      <td>M1 Macbook PRO\\r\\nJava 11\\r\\nHibernate 6.1.3 F...</td>\n",
              "      <td>SpannerDialect, schema creation generates SQL ...</td>\n",
              "      <td>Column type of UUID is parsed as null, example...</td>\n",
              "    </tr>\n",
              "  </tbody>\n",
              "</table>\n",
              "<p>10334 rows × 62 columns</p>\n",
              "</div>"
            ],
            "text/plain": [
              "                                                 Comment  \\\n",
              "0      I am running the command provided by the docum...   \n",
              "1      [https://jfrog.com/help/r/jfrog-release-inform...   \n",
              "2      This is the current value I would like to chan...   \n",
              "3      Ik can get the manifest from the remote repo w...   \n",
              "4      Corresponding Log record from nginx reverse pr...   \n",
              "...                                                  ...   \n",
              "10329  Going to need a little more information.  What...   \n",
              "10330  This is due to your use of {{not-found=”ignore...   \n",
              "10331  Just because we log the statements in an under...   \n",
              "10332  Thanks for the report. I see that HANA only su...   \n",
              "10333  {code}\\n\\nand got the same error:\\n\\n{{Oct. 05...   \n",
              "\n",
              "                                               Comment.1  \\\n",
              "0      Hi [~accountid:6213cf7cc345490071968be0]  The ...   \n",
              "1      *According to RTDEV-5069:*\\n\\nThe feature is s...   \n",
              "2      [https://jfrog.atlassian.net/browse/RTFACT-154...   \n",
              "3                                                    NaN   \n",
              "4                                                    NaN   \n",
              "...                                                  ...   \n",
              "10329  I just tried to remove the {{id 'org.graalvm.b...   \n",
              "10330  I understand that this is unfortunate, but I d...   \n",
              "10331                                                NaN   \n",
              "10332  Oh damn, this test is new. I guess it slipped ...   \n",
              "10333                                                NaN   \n",
              "\n",
              "                                               Comment.2  \\\n",
              "0      Ok, thanks for your reply. \\n\\nI had seen this...   \n",
              "1      [~accountid:5f79a75eac3a2d006ffcc8b7] : \\n\\n* ...   \n",
              "2                                                    NaN   \n",
              "3                                                    NaN   \n",
              "4                                                    NaN   \n",
              "...                                                  ...   \n",
              "10329  I did not say it is a problem in the plugin or...   \n",
              "10330  Thank you for the clarification.  \\nWhat is th...   \n",
              "10331                                                NaN   \n",
              "10332  It started with the pull request [https://gith...   \n",
              "10333                                                NaN   \n",
              "\n",
              "                                               Comment.3  \\\n",
              "0                                                    NaN   \n",
              "1      [~accountid:5f79a75eac3a2d006ffcc8b7] We have ...   \n",
              "2                                                    NaN   \n",
              "3                                                    NaN   \n",
              "4                                                    NaN   \n",
              "...                                                  ...   \n",
              "10329  Not able to use the sample project:\\n\\n{noform...   \n",
              "10330  You can read the documentation section on the ...   \n",
              "10331                                                NaN   \n",
              "10332  Don’t worry about this HANA issue. It has noth...   \n",
              "10333                                                NaN   \n",
              "\n",
              "                                               Comment.4  \\\n",
              "0                                                    NaN   \n",
              "1      Since Composer *Virtual* Repository supports o...   \n",
              "2                                                    NaN   \n",
              "3                                                    NaN   \n",
              "4                                                    NaN   \n",
              "...                                                  ...   \n",
              "10329  I got the previous error both (1) attempting t...   \n",
              "10330                                                NaN   \n",
              "10331                                                NaN   \n",
              "10332                                                NaN   \n",
              "10333                                                NaN   \n",
              "\n",
              "                                               Comment.5  \\\n",
              "0                                                    NaN   \n",
              "1                                                    NaN   \n",
              "2                                                    NaN   \n",
              "3                                                    NaN   \n",
              "4                                                    NaN   \n",
              "...                                                  ...   \n",
              "10329  The project require Java 17 since Spring Boot ...   \n",
              "10330                                                NaN   \n",
              "10331                                                NaN   \n",
              "10332                                                NaN   \n",
              "10333                                                NaN   \n",
              "\n",
              "                                               Comment.6  \\\n",
              "0                                                    NaN   \n",
              "1                                                    NaN   \n",
              "2                                                    NaN   \n",
              "3                                                    NaN   \n",
              "4                                                    NaN   \n",
              "...                                                  ...   \n",
              "10329  I did not.  That was not specified.  You said ...   \n",
              "10330                                                NaN   \n",
              "10331                                                NaN   \n",
              "10332                                                NaN   \n",
              "10333                                                NaN   \n",
              "\n",
              "                                               Comment.7  \\\n",
              "0                                                    NaN   \n",
              "1                                                    NaN   \n",
              "2                                                    NaN   \n",
              "3                                                    NaN   \n",
              "4                                                    NaN   \n",
              "...                                                  ...   \n",
              "10329  {noformat}> sdk use java 17.0.4.1-librca\\n\\nUs...   \n",
              "10330                                                NaN   \n",
              "10331                                                NaN   \n",
              "10332                                                NaN   \n",
              "10333                                                NaN   \n",
              "\n",
              "                                               Comment.8  \\\n",
              "0                                                    NaN   \n",
              "1                                                    NaN   \n",
              "2                                                    NaN   \n",
              "3                                                    NaN   \n",
              "4                                                    NaN   \n",
              "...                                                  ...   \n",
              "10329  Sorry that’s due to a recent change in our sna...   \n",
              "10330                                                NaN   \n",
              "10331                                                NaN   \n",
              "10332                                                NaN   \n",
              "10333                                                NaN   \n",
              "\n",
              "                                               Comment.9  ... Comment.52  \\\n",
              "0                                                    NaN  ...        NaN   \n",
              "1                                                    NaN  ...        NaN   \n",
              "2                                                    NaN  ...        NaN   \n",
              "3                                                    NaN  ...        NaN   \n",
              "4                                                    NaN  ...        NaN   \n",
              "...                                                  ...  ...        ...   \n",
              "10329  Ok, I was able to reproduce it now.  Thanks.\\n...  ...        NaN   \n",
              "10330                                                NaN  ...        NaN   \n",
              "10331                                                NaN  ...        NaN   \n",
              "10332                                                NaN  ...        NaN   \n",
              "10333                                                NaN  ...        NaN   \n",
              "\n",
              "      Comment.53 Comment.54 Comment.55 Comment.56 Comment.57 Comment.58  \\\n",
              "0            NaN        NaN        NaN        NaN        NaN        NaN   \n",
              "1            NaN        NaN        NaN        NaN        NaN        NaN   \n",
              "2            NaN        NaN        NaN        NaN        NaN        NaN   \n",
              "3            NaN        NaN        NaN        NaN        NaN        NaN   \n",
              "4            NaN        NaN        NaN        NaN        NaN        NaN   \n",
              "...          ...        ...        ...        ...        ...        ...   \n",
              "10329        NaN        NaN        NaN        NaN        NaN        NaN   \n",
              "10330        NaN        NaN        NaN        NaN        NaN        NaN   \n",
              "10331        NaN        NaN        NaN        NaN        NaN        NaN   \n",
              "10332        NaN        NaN        NaN        NaN        NaN        NaN   \n",
              "10333        NaN        NaN        NaN        NaN        NaN        NaN   \n",
              "\n",
              "                                             Environment  \\\n",
              "0      version we are running is: Artifactory Online ...   \n",
              "1                                                    NaN   \n",
              "2                            Developement and Production   \n",
              "3       Artifactory-pro 7.63.14 within a docker conta...   \n",
              "4                                           Linux centos   \n",
              "...                                                  ...   \n",
              "10329                                            Java 17   \n",
              "10330  hibernate-orm: 5.3.21\\nJVM: OpenJDK Runtime En...   \n",
              "10331                                                NaN   \n",
              "10332  debian 11 \\njava 11\\nSAP Hana from the  docker...   \n",
              "10333  M1 Macbook PRO\\r\\nJava 11\\r\\nHibernate 6.1.3 F...   \n",
              "\n",
              "                                                 Summary  \\\n",
              "0      plugin config-import not found for jfrog Artif...   \n",
              "1      RTDEV-5069 / mirroring https://asset-packagist...   \n",
              "2                        Docker - Repository Default URL   \n",
              "3           getting manifest unknown error pulling image   \n",
              "4      Caught exception while saving incoming stream ...   \n",
              "...                                                  ...   \n",
              "10329  Gradle plugin should use full compilation clas...   \n",
              "10330                 Illegal Update-Statement generated   \n",
              "10331  Trying to accomplish Insert bulk query with hi...   \n",
              "10332  Emulate lt/gt/le/ge tuple-comparisons when uns...   \n",
              "10333  SpannerDialect, schema creation generates SQL ...   \n",
              "\n",
              "                                             Description  \n",
              "0      I am following the steps from [https://docs.jf...  \n",
              "1      We are running Artifactory 7.63.14 and have pr...  \n",
              "2      Similar to Issue: [https://jfrog.atlassian.net...  \n",
              "3      I am getting the following error when pulling ...  \n",
              "4      We have recently upgrade Artifactory to 7.63.1...  \n",
              "...                                                  ...  \n",
              "10329  [This Spring Boot 3 + Hibernate 6 sample|https...  \n",
              "10330  The following Entities are given\\n\\n{noformat}...  \n",
              "10331  We are working on a spring boot api which uses...  \n",
              "10332  Execution of the  {{ ./gradlew clean test -Pdb...  \n",
              "10333  Column type of UUID is parsed as null, example...  \n",
              "\n",
              "[10334 rows x 62 columns]"
            ]
          },
          "execution_count": 2,
          "metadata": {},
          "output_type": "execute_result"
        }
      ],
      "source": [
        "merged_df = pd.read_csv('cleaned_data.csv')\n",
        "merged_df"
      ]
    },
    {
      "cell_type": "markdown",
      "metadata": {
        "id": "wal3fM_wJfwz"
      },
      "source": [
        " Using Sbert (Sentence Bert)texte en gras using transformers architecture\n"
      ]
    },
    {
      "cell_type": "code",
      "execution_count": null,
      "metadata": {
        "id": "0tspUwe2L6HX"
      },
      "outputs": [
        {
          "name": "stdout",
          "output_type": "stream",
          "text": [
            "Collecting sentence_transformers\n",
            "  Downloading sentence_transformers-2.5.1-py3-none-any.whl.metadata (11 kB)\n",
            "Requirement already satisfied: transformers<5.0.0,>=4.32.0 in c:\\python\\python39\\lib\\site-packages (from sentence_transformers) (4.35.2)\n",
            "Requirement already satisfied: tqdm in c:\\python\\python39\\lib\\site-packages (from sentence_transformers) (4.65.0)\n",
            "Requirement already satisfied: torch>=1.11.0 in c:\\python\\python39\\lib\\site-packages (from sentence_transformers) (2.0.1)\n",
            "Requirement already satisfied: numpy in c:\\python\\python39\\lib\\site-packages (from sentence_transformers) (1.24.2)\n",
            "Requirement already satisfied: scikit-learn in c:\\python\\python39\\lib\\site-packages (from sentence_transformers) (1.2.2)\n",
            "Requirement already satisfied: scipy in c:\\python\\python39\\lib\\site-packages (from sentence_transformers) (1.10.0)\n",
            "Requirement already satisfied: huggingface-hub>=0.15.1 in c:\\python\\python39\\lib\\site-packages (from sentence_transformers) (0.19.4)\n",
            "Requirement already satisfied: Pillow in c:\\python\\python39\\lib\\site-packages (from sentence_transformers) (9.4.0)\n",
            "Requirement already satisfied: filelock in c:\\python\\python39\\lib\\site-packages (from huggingface-hub>=0.15.1->sentence_transformers) (3.12.0)\n",
            "Requirement already satisfied: fsspec>=2023.5.0 in c:\\python\\python39\\lib\\site-packages (from huggingface-hub>=0.15.1->sentence_transformers) (2023.10.0)\n",
            "Requirement already satisfied: requests in c:\\users\\abidi\\appdata\\roaming\\python\\python39\\site-packages (from huggingface-hub>=0.15.1->sentence_transformers) (2.31.0)\n",
            "Requirement already satisfied: pyyaml>=5.1 in c:\\python\\python39\\lib\\site-packages (from huggingface-hub>=0.15.1->sentence_transformers) (6.0.1)\n",
            "Requirement already satisfied: typing-extensions>=3.7.4.3 in c:\\python\\python39\\lib\\site-packages (from huggingface-hub>=0.15.1->sentence_transformers) (4.8.0)\n",
            "Requirement already satisfied: packaging>=20.9 in c:\\python\\python39\\lib\\site-packages (from huggingface-hub>=0.15.1->sentence_transformers) (23.0)\n",
            "Requirement already satisfied: sympy in c:\\python\\python39\\lib\\site-packages (from torch>=1.11.0->sentence_transformers) (1.12)\n",
            "Requirement already satisfied: networkx in c:\\python\\python39\\lib\\site-packages (from torch>=1.11.0->sentence_transformers) (3.1)\n",
            "Requirement already satisfied: jinja2 in c:\\python\\python39\\lib\\site-packages (from torch>=1.11.0->sentence_transformers) (3.1.2)\n",
            "Requirement already satisfied: colorama in c:\\python\\python39\\lib\\site-packages (from tqdm->sentence_transformers) (0.4.6)\n",
            "Requirement already satisfied: regex!=2019.12.17 in c:\\python\\python39\\lib\\site-packages (from transformers<5.0.0,>=4.32.0->sentence_transformers) (2023.10.3)\n",
            "Requirement already satisfied: tokenizers<0.19,>=0.14 in c:\\python\\python39\\lib\\site-packages (from transformers<5.0.0,>=4.32.0->sentence_transformers) (0.15.0)\n",
            "Requirement already satisfied: safetensors>=0.3.1 in c:\\python\\python39\\lib\\site-packages (from transformers<5.0.0,>=4.32.0->sentence_transformers) (0.4.0)\n",
            "Requirement already satisfied: joblib>=1.1.1 in c:\\python\\python39\\lib\\site-packages (from scikit-learn->sentence_transformers) (1.2.0)\n",
            "Requirement already satisfied: threadpoolctl>=2.0.0 in c:\\python\\python39\\lib\\site-packages (from scikit-learn->sentence_transformers) (3.1.0)\n",
            "Requirement already satisfied: MarkupSafe>=2.0 in c:\\python\\python39\\lib\\site-packages (from jinja2->torch>=1.11.0->sentence_transformers) (2.1.2)\n",
            "Requirement already satisfied: charset-normalizer<4,>=2 in c:\\python\\python39\\lib\\site-packages (from requests->huggingface-hub>=0.15.1->sentence_transformers) (3.0.1)\n",
            "Requirement already satisfied: idna<4,>=2.5 in c:\\python\\python39\\lib\\site-packages (from requests->huggingface-hub>=0.15.1->sentence_transformers) (3.4)\n",
            "Requirement already satisfied: urllib3<3,>=1.21.1 in c:\\python\\python39\\lib\\site-packages (from requests->huggingface-hub>=0.15.1->sentence_transformers) (1.26.14)\n",
            "Requirement already satisfied: certifi>=2017.4.17 in c:\\python\\python39\\lib\\site-packages (from requests->huggingface-hub>=0.15.1->sentence_transformers) (2022.12.7)\n",
            "Requirement already satisfied: mpmath>=0.19 in c:\\python\\python39\\lib\\site-packages (from sympy->torch>=1.11.0->sentence_transformers) (1.3.0)\n",
            "Downloading sentence_transformers-2.5.1-py3-none-any.whl (156 kB)\n",
            "   ---------------------------------------- 0.0/156.5 kB ? eta -:--:--\n",
            "   ------- -------------------------------- 30.7/156.5 kB 1.3 MB/s eta 0:00:01\n",
            "   ---------------------------- ----------- 112.6/156.5 kB 1.3 MB/s eta 0:00:01\n",
            "   ---------------------------------------  153.6/156.5 kB 1.3 MB/s eta 0:00:01\n",
            "   ---------------------------------------  153.6/156.5 kB 1.3 MB/s eta 0:00:01\n",
            "   -------------------------------------- 156.5/156.5 kB 716.9 kB/s eta 0:00:00\n",
            "Installing collected packages: sentence_transformers\n",
            "Successfully installed sentence_transformers-2.5.1\n"
          ]
        }
      ],
      "source": [
        "# !pip install sentence_transformers"
      ]
    },
    {
      "cell_type": "code",
      "execution_count": null,
      "metadata": {
        "id": "wmy-f11mKfHk"
      },
      "outputs": [],
      "source": [
        "from sentence_transformers import SentenceTransformer, util"
      ]
    },
    {
      "cell_type": "code",
      "execution_count": null,
      "metadata": {
        "id": "QXXukRS_ZNCf"
      },
      "outputs": [],
      "source": [
        "model = SentenceTransformer(\"all-MiniLM-L6-v2\")\n"
      ]
    },
    {
      "cell_type": "code",
      "execution_count": null,
      "metadata": {
        "id": "p-6InSSCbAe7"
      },
      "outputs": [],
      "source": [
        "embeddings = []\n",
        "\n",
        "# Iterate through each row of the column\n",
        "for i in merged_df['Summary']:\n",
        "    # Encode the sentence using the BERT model\n",
        "    embedding = model.encode(i)\n",
        "    # Append the embedding to the list\n",
        "    embeddings.append(embedding)\n",
        "\n",
        "merged_df['embeddingsSummary'] = embeddings\n"
      ]
    },
    {
      "cell_type": "code",
      "execution_count": null,
      "metadata": {
        "id": "w8zEAVIYbHOr"
      },
      "outputs": [],
      "source": [
        "\n",
        "merged_df.head(20)\n",
        "\n"
      ]
    },
    {
      "cell_type": "code",
      "execution_count": null,
      "metadata": {
        "id": "9UmS2GvD_n2Q"
      },
      "outputs": [],
      "source": [
        "\n",
        "merged_df.reset_index(drop=True, inplace=True)\n",
        "merged_df.head()"
      ]
    },
    {
      "cell_type": "code",
      "execution_count": null,
      "metadata": {
        "id": "p9yihRVAIIoQ"
      },
      "outputs": [],
      "source": [
        "embeddings2 = merged_df.loc[1, 'embeddingsSummary']\n",
        "embeddings1= merged_df.loc[0, 'embeddingsSummary']\n",
        "embeddings2\n"
      ]
    },
    {
      "cell_type": "code",
      "execution_count": null,
      "metadata": {
        "id": "TXYOhX5mI63I"
      },
      "outputs": [],
      "source": [
        "embeddings1\n",
        "\n",
        "\n"
      ]
    },
    {
      "cell_type": "code",
      "execution_count": null,
      "metadata": {
        "colab": {
          "base_uri": "https://localhost:8080/"
        },
        "id": "wNDQgo5SOTLB",
        "outputId": "6cedb357-c08e-47fd-d42a-27553286b41c"
      },
      "outputs": [
        {
          "data": {
            "text/plain": [
              "384"
            ]
          },
          "execution_count": 42,
          "metadata": {},
          "output_type": "execute_result"
        }
      ],
      "source": [
        "len(embeddings1)"
      ]
    },
    {
      "cell_type": "code",
      "execution_count": null,
      "metadata": {
        "colab": {
          "base_uri": "https://localhost:8080/"
        },
        "id": "1mI1q978OTOa",
        "outputId": "72dadad3-8087-46cb-ce11-5e996daff0e6"
      },
      "outputs": [
        {
          "name": "stdout",
          "output_type": "stream",
          "text": [
            "Summary 1: plugin config-import not found for jfrog Artifactory cloud implementation\n",
            "Summary 2: RTDEV-5069 / mirroring https://asset-packagist.org\n",
            "Cosine Similarity: 0.04485318\n"
          ]
        }
      ],
      "source": [
        "from sklearn.metrics.pairwise import cosine_similarity\n",
        "\n",
        "# Calculate cosine similarity between embeddings1 and embeddings2\n",
        "similarity_matrix = cosine_similarity(embeddings1.reshape(1, -1), embeddings2.reshape(1, -1))\n",
        "\n",
        "# Access the similarity value from the similarity matrix\n",
        "cosine_similarity_value = similarity_matrix[0][0]\n",
        "\n",
        "print(\"Summary 1:\", merged_df.loc[0, 'Summary'])\n",
        "print(\"Summary 2:\", merged_df.loc[1, 'Summary'])\n",
        "print(\"Cosine Similarity:\", cosine_similarity_value)\n",
        "\n",
        "\n"
      ]
    },
    {
      "cell_type": "code",
      "execution_count": null,
      "metadata": {
        "colab": {
          "base_uri": "https://localhost:8080/"
        },
        "id": "QUemEiixnFND",
        "outputId": "a405710a-84d7-4eb8-ad11-752dac13b867"
      },
      "outputs": [
        {
          "name": "stdout",
          "output_type": "stream",
          "text": [
            "Tapez le résumé du probème que vous rencontrez         python error\n"
          ]
        }
      ],
      "source": [
        "summary_utilisateur=str(input('Tapez le résumé du probème que vous rencontrez         '))\n",
        "while summary_utilisateur == '':\n",
        "  summary_utilisateur=str(input('Tapez le résumé du probème que vous rencontrez         '))\n",
        "\n",
        "\n",
        "\n"
      ]
    },
    {
      "cell_type": "code",
      "execution_count": null,
      "metadata": {
        "id": "NWK5Ftv6mxin"
      },
      "outputs": [],
      "source": [
        "embeddingsu=model.encode(summary_utilisateur)"
      ]
    },
    {
      "cell_type": "code",
      "execution_count": null,
      "metadata": {
        "id": "jV26j37R_wJn"
      },
      "outputs": [],
      "source": [
        "import numpy as np\n",
        "\n",
        "# Create an empty array with the appropriate shape and data type\n",
        "embeddings_summary = np.empty((len(merged_df),), dtype=object)\n",
        "\n",
        "# Populate the array with values from the 'embeddingsSummary' column\n",
        "for i in merged_df.index:\n",
        "    embeddings_summary[i] = merged_df.loc[i, 'embeddingsSummary']\n"
      ]
    },
    {
      "cell_type": "code",
      "execution_count": null,
      "metadata": {
        "id": "7RW1vXVt9Xu4"
      },
      "outputs": [],
      "source": [
        "# Ensure embeddingsu is a 1D numpy array or reshape it accordingly\n",
        "embeddingsu = embeddingsu.reshape(1, -1)\n",
        "\n"
      ]
    },
    {
      "cell_type": "code",
      "execution_count": null,
      "metadata": {
        "colab": {
          "base_uri": "https://localhost:8080/"
        },
        "id": "z8b4RbXY9gQw",
        "outputId": "e317cbb2-f4d4-4c88-b4d0-b1413e10c939"
      },
      "outputs": [
        {
          "name": "stdout",
          "output_type": "stream",
          "text": [
            "Similarity between 'plpy import problems' and 'python error': 0.545191764831543\n",
            "Similarity between 'm4 keyword conflict with python' and 'python error': 0.5259153842926025\n",
            "Similarity between 'compile error' and 'python error': 0.5202348232269287\n",
            "Similarity between 'error in function' and 'python error': 0.6073518991470337\n",
            "Similarity between 'Error' and 'python error': 0.6749846339225769\n"
          ]
        }
      ],
      "source": [
        "for i in range(len(embeddings_summary)):\n",
        "    similarity_matrix = cosine_similarity(embeddings_summary[i].reshape(1, -1), embeddingsu)\n",
        "    cosine_similarity_value = similarity_matrix[0][0]\n",
        "    if cosine_similarity_value >= 0.5:\n",
        "        summary_text = merged_df.loc[i, 'Summary']\n",
        "        print(f\"Similarity between '{summary_text}' and '{summary_utilisateur}': {cosine_similarity_value}\")"
      ]
    },
    {
      "cell_type": "code",
      "execution_count": null,
      "metadata": {
        "colab": {
          "base_uri": "https://localhost:8080/"
        },
        "id": "v0QuYZpsHpy5",
        "outputId": "48a397c9-660b-477b-c751-ceb662c6cb60"
      },
      "outputs": [
        {
          "name": "stderr",
          "output_type": "stream",
          "text": [
            "[nltk_data] Downloading package punkt to /root/nltk_data...\n",
            "[nltk_data]   Unzipping tokenizers/punkt.zip.\n",
            "[nltk_data] Downloading package wordnet to /root/nltk_data...\n",
            "[nltk_data] Downloading package stopwords to /root/nltk_data...\n",
            "[nltk_data]   Unzipping corpora/stopwords.zip.\n"
          ]
        }
      ],
      "source": [
        "import nltk\n",
        "from nltk.tokenize import word_tokenize\n",
        "from nltk.corpus import stopwords\n",
        "from nltk.stem import WordNetLemmatizer\n",
        "from sklearn.feature_extraction.text import TfidfVectorizer\n",
        "from sklearn.metrics.pairwise import cosine_similarity\n",
        "nltk.download('punkt')\n",
        "nltk.download('wordnet')\n",
        "nltk.download('stopwords')\n",
        "\n",
        "\n",
        "\n",
        "stop_words = set(stopwords.words('english'))\n",
        "lemmatizer = WordNetLemmatizer()\n",
        "vectorizer = TfidfVectorizer()\n"
      ]
    },
    {
      "cell_type": "code",
      "execution_count": null,
      "metadata": {
        "id": "d_yczbWZgEhU"
      },
      "outputs": [],
      "source": [
        "all_tokens=[]\n",
        "for i in df['Summary']:\n",
        "  tokens = nltk.word_tokenize(i)\n",
        "  tokens = [lemmatizer.lemmatize(token) for token in tokens]\n",
        "  tokens = [token for token in tokens if token not in stop_words]\n",
        "  print(tokens)\n",
        "  all_tokens.append(tokens)"
      ]
    },
    {
      "cell_type": "code",
      "execution_count": null,
      "metadata": {
        "id": "IE0N527fs4S8"
      },
      "outputs": [],
      "source": [
        "len(all_tokens)"
      ]
    },
    {
      "cell_type": "code",
      "execution_count": null,
      "metadata": {
        "id": "m9y5DkrVQcpH"
      },
      "outputs": [],
      "source": [
        "empty_lists = [sublist for sublist in all_tokens if len(sublist) == 0]\n",
        "\n",
        "\n",
        "if empty_lists:\n",
        "    print(\"The following lists are empty:\")\n",
        "    for i, sublist in enumerate(empty_lists):\n",
        "        print(f\"List {i + 1}: {sublist}\")\n",
        "else:\n",
        "    print(\"There are no empty lists.\")"
      ]
    },
    {
      "cell_type": "code",
      "execution_count": null,
      "metadata": {
        "colab": {
          "base_uri": "https://localhost:8080/"
        },
        "id": "N5Qd-CG5Q0PE",
        "outputId": "c6d846c7-c4cc-402d-93bb-22d057a4f23a"
      },
      "outputs": [
        {
          "data": {
            "text/plain": [
              "20040"
            ]
          },
          "execution_count": 78,
          "metadata": {},
          "output_type": "execute_result"
        }
      ],
      "source": [
        "for i in reversed(all_tokens):\n",
        "    if len(i) == 0:\n",
        "        all_tokens.remove(i)\n",
        "len(all_tokens)"
      ]
    },
    {
      "cell_type": "code",
      "execution_count": null,
      "metadata": {
        "id": "nN9pwhIjtV2w"
      },
      "outputs": [],
      "source": [
        "all_tokens[:10]"
      ]
    },
    {
      "cell_type": "code",
      "execution_count": null,
      "metadata": {
        "colab": {
          "base_uri": "https://localhost:8080/"
        },
        "id": "w-uJd6uaJyy1",
        "outputId": "5fd1a29a-5320-4c00-da83-41b0d47d3ff1"
      },
      "outputs": [
        {
          "name": "stdout",
          "output_type": "stream",
          "text": [
            "[['plugin', 'config-import', 'found', 'jfrog', 'Artifactory', 'cloud', 'implementation']]\n",
            "  (0, 7968)\t0.30297671516658375\n",
            "  (0, 6017)\t0.4171709560509621\n",
            "  (0, 5295)\t0.3392869543879732\n",
            "  (0, 5281)\t0.3252472478172802\n",
            "  (0, 4240)\t0.3527050674883263\n",
            "  (0, 2154)\t0.3605222812846478\n",
            "  (0, 1914)\t0.444894161917785\n",
            "  (0, 906)\t0.24690908978944343\n"
          ]
        }
      ],
      "source": [
        "from sklearn.feature_extraction.text import TfidfVectorizer\n",
        "\n",
        "\n",
        "vectorizer = TfidfVectorizer()\n",
        "\n",
        "\n",
        "vectorizer.fit([\" \".join(tokens) for tokens in all_tokens])\n",
        "\n",
        "tokens1 = all_tokens[:1]\n",
        "print(tokens1)\n",
        "text = \" \".join(tokens1[0])\n",
        "matrice = vectorizer.transform([text])\n",
        "print(matrice)"
      ]
    },
    {
      "cell_type": "code",
      "execution_count": null,
      "metadata": {
        "colab": {
          "base_uri": "https://localhost:8080/"
        },
        "id": "869VohszJy1X",
        "outputId": "4926f8f8-3d24-456a-d208-072777533c78"
      },
      "outputs": [
        {
          "name": "stdout",
          "output_type": "stream",
          "text": [
            "[['UI', 'Native', 'return', '404', 'Artifacts', 'Cached', 'Remote', 'Repositories']]\n",
            "  (0, 10791)\t0.31567736409952385\n",
            "  (0, 8987)\t0.28560136174448547\n",
            "  (0, 8857)\t0.4149430587092495\n",
            "  (0, 8777)\t0.2799424232886415\n",
            "  (0, 7119)\t0.33333425625657925\n",
            "  (0, 1585)\t0.39579954260803\n",
            "  (0, 914)\t0.4109220802192971\n",
            "  (0, 237)\t0.36277844657939684\n"
          ]
        }
      ],
      "source": [
        "tokens2= all_tokens[1:2]\n",
        "print(tokens2) # Get the first list of tokens\n",
        "text = \" \".join(tokens2[0])  # Join the tokens into a single string\n",
        "matrice2 = vectorizer.transform([text])\n",
        "print(matrice2)"
      ]
    },
    {
      "cell_type": "code",
      "execution_count": null,
      "metadata": {
        "colab": {
          "base_uri": "https://localhost:8080/"
        },
        "id": "z71yR9trJy3v",
        "outputId": "32b77ee3-7ed5-42c2-914a-ee463022df21"
      },
      "outputs": [
        {
          "name": "stdout",
          "output_type": "stream",
          "text": [
            "0.0\n"
          ]
        }
      ],
      "source": [
        "cosine_sim = cosine_similarity(matrice, matrice2)\n",
        "round_cosine=round(cosine_sim[0][0], 2)\n",
        "\n",
        "\n",
        "\n",
        "print(round_cosine)"
      ]
    },
    {
      "cell_type": "code",
      "execution_count": null,
      "metadata": {
        "id": "BZpYiNMKJy6J"
      },
      "outputs": [],
      "source": [
        "matrices = []\n",
        "\n",
        "for tokens in all_tokens:\n",
        "    # Join the tokens into a single string\n",
        "    text = \" \".join(tokens)\n",
        "\n",
        "    # Apply the vectorizer to the text\n",
        "    matrice = vectorizer.transform([text])\n",
        "\n",
        "    # Append the resulting matrix to the list of matrices\n",
        "    matrices.append(matrice)\n",
        "\n",
        "# Print the list of matrices\n",
        "for i, matrice in enumerate(matrices):\n",
        "    print(f\"Matrix {i+1}:\")\n",
        "    print(matrice)\n"
      ]
    },
    {
      "cell_type": "code",
      "execution_count": null,
      "metadata": {
        "id": "xPiOISizJy9s"
      },
      "outputs": [],
      "source": [
        "from sklearn.metrics.pairwise import cosine_similarity\n",
        "\n",
        "# Calculate cosine similarity between all pairs of matrices\n",
        "cosine_similarities = []\n",
        "for i in range(len(matrices)):\n",
        "    for j in range(i+1, len(matrices)):\n",
        "        cosine_sim = cosine_similarity(matrices[i], matrices[j])\n",
        "        cosine_similarities.append((i, j, cosine_sim[0][0]))\n",
        "\n",
        "# Print cosine similarities\n",
        "for i, j, sim in cosine_similarities:\n",
        "    print(f\"Cosine similarity between matrix {i+1} and matrix {j+1}: {sim}\")\n"
      ]
    },
    {
      "cell_type": "code",
      "execution_count": null,
      "metadata": {
        "id": "eQjbISjAJzDE"
      },
      "outputs": [],
      "source": []
    },
    {
      "cell_type": "code",
      "execution_count": null,
      "metadata": {
        "id": "gFliN6JpJzGZ"
      },
      "outputs": [],
      "source": []
    }
  ],
  "metadata": {
    "colab": {
      "gpuType": "T4",
      "provenance": []
    },
    "kernelspec": {
      "display_name": "Python 3",
      "name": "python3"
    },
    "language_info": {
      "codemirror_mode": {
        "name": "ipython",
        "version": 3
      },
      "file_extension": ".py",
      "mimetype": "text/x-python",
      "name": "python",
      "nbconvert_exporter": "python",
      "pygments_lexer": "ipython3",
      "version": "3.9.13"
    }
  },
  "nbformat": 4,
  "nbformat_minor": 0
}
