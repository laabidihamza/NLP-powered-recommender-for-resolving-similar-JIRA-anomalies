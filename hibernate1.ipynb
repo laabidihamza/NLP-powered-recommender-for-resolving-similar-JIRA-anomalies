{
  "cells": [
    {
      "cell_type": "code",
      "execution_count": 1,
      "metadata": {
        "colab": {
          "base_uri": "https://localhost:8080/"
        },
        "id": "Ouge5v-sSqsZ",
        "outputId": "76d87a03-5ae6-4180-8461-9adff9cb6bc3"
      },
      "outputs": [],
      "source": [
        "import pandas as pd"
      ]
    },
    {
      "cell_type": "code",
      "execution_count": 2,
      "metadata": {
        "colab": {
          "base_uri": "https://localhost:8080/"
        },
        "id": "yrCXM7FoTuOx",
        "outputId": "70e7c0f0-8235-4fbd-bd79-55358205c9d0"
      },
      "outputs": [
        {
          "name": "stderr",
          "output_type": "stream",
          "text": [
            "C:\\Users\\abidi\\AppData\\Local\\Temp\\ipykernel_18724\\2637363864.py:1: DtypeWarning: Columns (24,25,26,28,29,30,33,34,35,36,37,39,40,41,42,43,44,50,52,53,54,57,58,59,60,64,65,66,74,75,76,77,78,80,84,87,91,110,111,112,113,114,115,116,117,118,119,120,121,122,123,124,125,126,127,128,129,130,131,132,133,134,135,136,137,138,139,140,141,142,143,144,145,146,147,148,150,151,152,153,154,155,156,157,158,159,160,161,162,163,164,165,166,167,168,169,170,171,172,173,174,175,176,177,178,179,180,181,182,183,184,185,186,187,188,189,190,191,192,193,194,195,196,197,198,199,200,201,202,203,204,205,206,207,208,209,210,214,215,216,217,218,219,220,221,222,223,224,225,226,227,228,229,230,231,232,233,234,235,236,237,238,239,240,241,242,243,244,245,246,247,248,249,250,254,255,259,260,266,273,274,279,280,281,282,283,284,285,286,287,288,289,290,291,292,293,302,303,304,305,306,307,308,309,310,311,312,313,314,316,317,318,319,321,322,323,324,325,326,327,328,329,330,331,332,333,334,335,368,369,381,385,397,404,420,421,422,446,451,452,453,454,455,456,457,458,459,460,461,462,463,464,465,466,467,468,469,470,471,472,473,475,476,477,478,479,480,481,482,483,484,485,486,487,488,489,490,491,492,493,494,495,496,497,498,499,500,501,502,503,504,505,506,507,508,509,511,512,513,514,515,516,517,518,519,520,521,522,523,524,525,526,527,528,529,530,531,532,533,534,535,536,537,538,539,540,541,542,543,544,545,546,547,548,549,550,551,552,553,554,555,556,557,558,559,560,561,562,563,564,565,566,567,568,569,570,571,572,573,574,575,576,577,578,579,580,581,582,583,584,585,586,587,588,589,590,591,592,593,594,595,596,597,598,599,600,601,602,603,604,605,606,607,608,609,610,611,612,613,614,615,616,617,618,619,620,621,622,623,624,625,626,627,628,629,630,631,632,633,634,635,636,637,638,639,640,641,642,643,644,645,646,647,648,649,650,651,652,653,654,655,656,657,658,659,660,661,662,663,664,665,666,667,668,669,670,671,672,673) have mixed types. Specify dtype option on import or set low_memory=False.\n",
            "  df = pd.read_csv('merged.csv')\n"
          ]
        }
      ],
      "source": [
        "df = pd.read_csv('merged.csv')\n"
      ]
    },
    {
      "cell_type": "code",
      "execution_count": null,
      "metadata": {
        "id": "YBW8ob7wTueM"
      },
      "outputs": [],
      "source": [
        "df.head()"
      ]
    },
    {
      "cell_type": "code",
      "execution_count": null,
      "metadata": {
        "colab": {
          "base_uri": "https://localhost:8080/"
        },
        "id": "MfZoLAnuUAEu",
        "outputId": "e73149e7-ae7a-4082-b3f4-446fb7c3df2d"
      },
      "outputs": [
        {
          "data": {
            "text/plain": [
              "(30587, 674)"
            ]
          },
          "execution_count": 6,
          "metadata": {},
          "output_type": "execute_result"
        }
      ],
      "source": [
        "df.shape"
      ]
    },
    {
      "cell_type": "code",
      "execution_count": null,
      "metadata": {
        "colab": {
          "base_uri": "https://localhost:8080/"
        },
        "id": "rA6WDlO028TZ",
        "outputId": "ed98aaf1-137e-4798-ea83-a677501297f6"
      },
      "outputs": [
        {
          "data": {
            "text/plain": [
              "5557"
            ]
          },
          "execution_count": 8,
          "metadata": {},
          "output_type": "execute_result"
        }
      ],
      "source": [
        "null=df['Description'].isnull().sum()\n",
        "null"
      ]
    },
    {
      "cell_type": "code",
      "execution_count": null,
      "metadata": {
        "colab": {
          "base_uri": "https://localhost:8080/"
        },
        "id": "nhoUGopYUAHW",
        "outputId": "e24cb30d-70c0-4b4a-d34e-f645546bdb1a"
      },
      "outputs": [
        {
          "data": {
            "text/plain": [
              "0"
            ]
          },
          "execution_count": 9,
          "metadata": {},
          "output_type": "execute_result"
        }
      ],
      "source": [
        "null=df['Summary'].isnull().sum()\n",
        "null\n"
      ]
    },
    {
      "cell_type": "code",
      "execution_count": null,
      "metadata": {
        "colab": {
          "base_uri": "https://localhost:8080/"
        },
        "id": "nmhTy-4OUAKW",
        "outputId": "39ad8fdc-7c96-4bc4-c11f-e86da51e984f"
      },
      "outputs": [
        {
          "name": "stdout",
          "output_type": "stream",
          "text": [
            "Number of duplicated rows: 1837\n"
          ]
        }
      ],
      "source": [
        "num_duplicates = df['Summary'].duplicated().sum()\n",
        "print(\"Number of duplicated rows:\", num_duplicates)\n"
      ]
    },
    {
      "cell_type": "code",
      "execution_count": null,
      "metadata": {
        "colab": {
          "base_uri": "https://localhost:8080/"
        },
        "id": "AdcBU3Ru0FHY",
        "outputId": "bdb30f01-0468-4cbc-b109-6f07f18ccbd2"
      },
      "outputs": [
        {
          "data": {
            "text/plain": [
              "(28750, 674)"
            ]
          },
          "execution_count": 11,
          "metadata": {},
          "output_type": "execute_result"
        }
      ],
      "source": [
        "df=df.drop_duplicates(subset=['Summary'])\n",
        "df.shape"
      ]
    },
    {
      "cell_type": "code",
      "execution_count": null,
      "metadata": {
        "id": "fuOwRqX20J62"
      },
      "outputs": [],
      "source": [
        "for i in df.columns:\n",
        "  print(i)"
      ]
    },
    {
      "cell_type": "code",
      "execution_count": null,
      "metadata": {
        "id": "pqBnIlWb0KMS"
      },
      "outputs": [],
      "source": [
        "for i in df['Summary']:\n",
        "  print('le resume est           ',i)"
      ]
    },
    {
      "cell_type": "code",
      "execution_count": null,
      "metadata": {
        "id": "Sk4sZtYx0iD1"
      },
      "outputs": [],
      "source": [
        "for i in df['Description']:\n",
        "  print('la decription est           ',i)"
      ]
    },
    {
      "cell_type": "code",
      "execution_count": null,
      "metadata": {
        "colab": {
          "base_uri": "https://localhost:8080/"
        },
        "id": "CIhK0OLY0lvn",
        "outputId": "98da1be5-33bb-4fad-e43d-1af2c5fedb3e"
      },
      "outputs": [
        {
          "data": {
            "text/plain": [
              "5371"
            ]
          },
          "execution_count": 15,
          "metadata": {},
          "output_type": "execute_result"
        }
      ],
      "source": [
        "#est ce que la similarity est basé sur el summary ou la description\n",
        "null=df['Description'].isnull().sum()\n",
        "null\n"
      ]
    },
    {
      "cell_type": "code",
      "execution_count": null,
      "metadata": {
        "id": "DGQmOOZv0iHR"
      },
      "outputs": [],
      "source": [
        "df.head()"
      ]
    },
    {
      "cell_type": "code",
      "execution_count": null,
      "metadata": {
        "id": "sbcuFEIl335K"
      },
      "outputs": [],
      "source": [
        "df['Status'].unique()"
      ]
    },
    {
      "cell_type": "code",
      "execution_count": null,
      "metadata": {
        "colab": {
          "base_uri": "https://localhost:8080/"
        },
        "id": "kUqODm_pHxyk",
        "outputId": "e8966858-7a96-40d0-bb2f-8ef97d0a9a0e"
      },
      "outputs": [
        {
          "data": {
            "text/plain": [
              "(20042, 674)"
            ]
          },
          "execution_count": 18,
          "metadata": {},
          "output_type": "execute_result"
        }
      ],
      "source": [
        "df = df[df['Status'].isin(['Closed', 'Resolved'])]\n",
        "df.shape\n",
        "\n"
      ]
    },
    {
      "cell_type": "code",
      "execution_count": null,
      "metadata": {
        "colab": {
          "base_uri": "https://localhost:8080/"
        },
        "id": "fwvPXQwZ34F4",
        "outputId": "ad7594b3-99fa-42cc-957f-386ab58e0086"
      },
      "outputs": [
        {
          "data": {
            "text/plain": [
              "Bug                     8012\n",
              "Task                    4647\n",
              "Improvement             3595\n",
              "New Feature             1359\n",
              "Customer New Request    1202\n",
              "Story                    522\n",
              "Sub-task                 353\n",
              "Patch                    230\n",
              "Remove Feature            47\n",
              "Epic                      27\n",
              "Deprecation               25\n",
              "Request                   12\n",
              "Sub-Task                   7\n",
              "Test                       2\n",
              "Wish                       1\n",
              "Proposal                   1\n",
              "Name: Issue Type, dtype: int64"
            ]
          },
          "execution_count": 19,
          "metadata": {},
          "output_type": "execute_result"
        }
      ],
      "source": [
        "df['Issue Type'].value_counts()"
      ]
    },
    {
      "cell_type": "code",
      "execution_count": null,
      "metadata": {
        "colab": {
          "base_uri": "https://localhost:8080/",
          "height": 620
        },
        "id": "qnc9DWVg4h0Z",
        "outputId": "83d1c809-74d8-4c2b-8810-dfdaddda59db"
      },
      "outputs": [
        {
          "data": {
            "image/png": "[encoded data removed]",
            "text/plain": [
              "<Figure size 640x480 with 1 Axes>"
            ]
          },
          "metadata": {},
          "output_type": "display_data"
        }
      ],
      "source": [
        "import matplotlib.pyplot as plt\n",
        "\n",
        "# Get the count of each unique value in the 'État' column\n",
        "etat_value_counts = df['Issue Type'].value_counts()\n",
        "\n",
        "# Plotting the histogram\n",
        "etat_value_counts.plot(kind='bar')\n",
        "plt.title('Histogram of type de ticket Values')\n",
        "plt.xlabel('État')\n",
        "plt.ylabel('Count')\n",
        "plt.show()\n"
      ]
    },
    {
      "cell_type": "code",
      "execution_count": null,
      "metadata": {
        "id": "s2WztHaJ4ieH"
      },
      "outputs": [],
      "source": [
        "for i in df.columns :\n",
        "  print(i)"
      ]
    },
    {
      "cell_type": "code",
      "execution_count": null,
      "metadata": {
        "id": "oin-HzKc5TlB"
      },
      "outputs": [],
      "source": [
        "commentaires = ['Comment', 'Comment.1', 'Comment.2', 'Comment.3', 'Comment.4', 'Comment.5', 'Comment.6', 'Comment.7', 'Comment.8', 'Comment.9', 'Comment.10', 'Comment.11', 'Comment.12', 'Comment.13', 'Comment.14', 'Comment.15', 'Comment.16', 'Comment.17', 'Comment.18', 'Comment.19', 'Comment.20', 'Comment.21', 'Comment.22', 'Comment.23', 'Comment.24', 'Comment.25', 'Comment.26', 'Comment.27', 'Comment.28', 'Comment.29', 'Comment.30', 'Comment.31', 'Comment.32', 'Comment.33', 'Comment.34', 'Comment.35', 'Comment.36', 'Comment.37', 'Comment.38', 'Comment.39', 'Comment.40', 'Comment.41', 'Comment.42', 'Comment.43', 'Comment.44', 'Comment.45', 'Comment.46', 'Comment.47', 'Comment.48', 'Comment.49', 'Comment.50', 'Comment.51', 'Comment.52', 'Comment.53', 'Comment.54', 'Comment.55', 'Comment.56', 'Comment.57', 'Comment.58']\n",
        "comm = df[commentaires].copy()\n",
        "comm.head(50)"
      ]
    },
    {
      "cell_type": "code",
      "execution_count": null,
      "metadata": {
        "id": "tAMwkaW95T1I"
      },
      "outputs": [],
      "source": [
        "# Keep rows that have at least one non-null value in each column\n",
        "comm_with_non_nulls = comm.dropna(how='all')\n",
        "\n",
        "# df_with_non_nulls now contains only rows with at least one non-null value in each column\n",
        "\n"
      ]
    },
    {
      "cell_type": "code",
      "execution_count": null,
      "metadata": {
        "colab": {
          "base_uri": "https://localhost:8080/"
        },
        "id": "m7BB3tBU7GMH",
        "outputId": "0b8e4df5-f0d5-4ce4-f5cc-a228cd44c82e"
      },
      "outputs": [
        {
          "data": {
            "text/plain": [
              "(10334, 59)"
            ]
          },
          "execution_count": 24,
          "metadata": {},
          "output_type": "execute_result"
        }
      ],
      "source": [
        "comm_with_non_nulls .shape"
      ]
    },
    {
      "cell_type": "code",
      "execution_count": null,
      "metadata": {
        "id": "Mi1-OILY7ToI"
      },
      "outputs": [],
      "source": [
        "comm=comm_with_non_nulls\n",
        "comm.head(20)"
      ]
    },
    {
      "cell_type": "code",
      "execution_count": null,
      "metadata": {
        "id": "nlBA-eFF9_x6"
      },
      "outputs": [],
      "source": [
        "pp= ['Environment','Summary','Description']\n",
        "ppl = df[pp].copy()\n",
        "ppl.head(50)"
      ]
    },
    {
      "cell_type": "code",
      "execution_count": null,
      "metadata": {
        "id": "7irk1p149_1R"
      },
      "outputs": [],
      "source": [
        "merged_df = comm.merge(ppl, left_index=True, right_index=True)"
      ]
    },
    {
      "cell_type": "code",
      "execution_count": null,
      "metadata": {
        "id": "IPE8z-z9C5SP"
      },
      "outputs": [],
      "source": [
        "merged_df.shape\n",
        "merged_df.head(30)\n"
      ]
    },
    {
      "cell_type": "code",
      "execution_count": null,
      "metadata": {
        "id": "Vr5ner7DFXyB"
      },
      "outputs": [],
      "source": [
        "for i in merged_df['Comment']:\n",
        "  print('le commentaire est   ',i)\n"
      ]
    },
    {
      "cell_type": "code",
      "execution_count": null,
      "metadata": {
        "id": "TDaTUoWVFX-w"
      },
      "outputs": [],
      "source": [
        "type(merged_df['Comment'])\n"
      ]
    },
    {
      "cell_type": "code",
      "execution_count": null,
      "metadata": {
        "id": "vc82CJNpG-Ej"
      },
      "outputs": [],
      "source": [
        "merged_df['Comment'] = merged_df['Comment'].astype(str)\n",
        "merged_df['Comment'] = merged_df['Comment'].str.split(';').str[-1]\n"
      ]
    },
    {
      "cell_type": "code",
      "execution_count": null,
      "metadata": {
        "id": "UNvI1vkjHWEt"
      },
      "outputs": [],
      "source": [
        "for i in merged_df['Comment']:\n",
        "  print('ce commentaire est            ',i)"
      ]
    },
    {
      "cell_type": "code",
      "execution_count": null,
      "metadata": {
        "id": "MWcgso6oIFb5"
      },
      "outputs": [],
      "source": [
        "for i in range(1, 58):  # Loop through Comment.1 to Comment.57\n",
        "    col_name = f'Comment.{i}'\n",
        "    merged_df[col_name] = merged_df[col_name].astype(str)\n",
        "    merged_df[col_name] = merged_df[col_name].str.split(';').str[-1]\n",
        "    print(f\"le commentaire.{i} est \", merged_df[col_name])\n"
      ]
    },
    {
      "cell_type": "markdown",
      "metadata": {
        "id": "wal3fM_wJfwz"
      },
      "source": [
        " Using Sbert (Sentence Bert)texte en gras using transformers architecture\n"
      ]
    },
    {
      "cell_type": "code",
      "execution_count": null,
      "metadata": {
        "id": "0tspUwe2L6HX"
      },
      "outputs": [],
      "source": [
        "!pip install sentence_transformers"
      ]
    },
    {
      "cell_type": "code",
      "execution_count": null,
      "metadata": {
        "id": "wmy-f11mKfHk"
      },
      "outputs": [],
      "source": [
        "from sentence_transformers import SentenceTransformer, util\n",
        "\n"
      ]
    },
    {
      "cell_type": "code",
      "execution_count": null,
      "metadata": {
        "id": "QXXukRS_ZNCf"
      },
      "outputs": [],
      "source": [
        "model = SentenceTransformer(\"all-MiniLM-L6-v2\")\n"
      ]
    },
    {
      "cell_type": "code",
      "execution_count": null,
      "metadata": {
        "id": "p-6InSSCbAe7"
      },
      "outputs": [],
      "source": [
        "embeddings = []\n",
        "\n",
        "# Iterate through each row of the column\n",
        "for i in merged_df['Summary']:\n",
        "    # Encode the sentence using the BERT model\n",
        "    embedding = model.encode(i)\n",
        "    # Append the embedding to the list\n",
        "    embeddings.append(embedding)\n",
        "\n",
        "merged_df['embeddingsSummary'] = embeddings\n"
      ]
    },
    {
      "cell_type": "code",
      "execution_count": null,
      "metadata": {
        "id": "w8zEAVIYbHOr"
      },
      "outputs": [],
      "source": [
        "\n",
        "merged_df.head(20)\n",
        "\n"
      ]
    },
    {
      "cell_type": "code",
      "execution_count": null,
      "metadata": {
        "id": "9UmS2GvD_n2Q"
      },
      "outputs": [],
      "source": [
        "\n",
        "merged_df.reset_index(drop=True, inplace=True)\n",
        "merged_df.head()"
      ]
    },
    {
      "cell_type": "code",
      "execution_count": null,
      "metadata": {
        "id": "p9yihRVAIIoQ"
      },
      "outputs": [],
      "source": [
        "embeddings2 = merged_df.loc[1, 'embeddingsSummary']\n",
        "embeddings1= merged_df.loc[0, 'embeddingsSummary']\n",
        "embeddings2\n"
      ]
    },
    {
      "cell_type": "code",
      "execution_count": null,
      "metadata": {
        "id": "TXYOhX5mI63I"
      },
      "outputs": [],
      "source": [
        "embeddings1\n",
        "\n",
        "\n"
      ]
    },
    {
      "cell_type": "code",
      "execution_count": null,
      "metadata": {
        "colab": {
          "base_uri": "https://localhost:8080/"
        },
        "id": "wNDQgo5SOTLB",
        "outputId": "6cedb357-c08e-47fd-d42a-27553286b41c"
      },
      "outputs": [
        {
          "data": {
            "text/plain": [
              "384"
            ]
          },
          "execution_count": 42,
          "metadata": {},
          "output_type": "execute_result"
        }
      ],
      "source": [
        "len(embeddings1)"
      ]
    },
    {
      "cell_type": "code",
      "execution_count": null,
      "metadata": {
        "colab": {
          "base_uri": "https://localhost:8080/"
        },
        "id": "1mI1q978OTOa",
        "outputId": "72dadad3-8087-46cb-ce11-5e996daff0e6"
      },
      "outputs": [
        {
          "name": "stdout",
          "output_type": "stream",
          "text": [
            "Summary 1: plugin config-import not found for jfrog Artifactory cloud implementation\n",
            "Summary 2: RTDEV-5069 / mirroring https://asset-packagist.org\n",
            "Cosine Similarity: 0.04485318\n"
          ]
        }
      ],
      "source": [
        "from sklearn.metrics.pairwise import cosine_similarity\n",
        "\n",
        "# Calculate cosine similarity between embeddings1 and embeddings2\n",
        "similarity_matrix = cosine_similarity(embeddings1.reshape(1, -1), embeddings2.reshape(1, -1))\n",
        "\n",
        "# Access the similarity value from the similarity matrix\n",
        "cosine_similarity_value = similarity_matrix[0][0]\n",
        "\n",
        "print(\"Summary 1:\", merged_df.loc[0, 'Summary'])\n",
        "print(\"Summary 2:\", merged_df.loc[1, 'Summary'])\n",
        "print(\"Cosine Similarity:\", cosine_similarity_value)\n",
        "\n",
        "\n"
      ]
    },
    {
      "cell_type": "code",
      "execution_count": null,
      "metadata": {
        "colab": {
          "base_uri": "https://localhost:8080/"
        },
        "id": "QUemEiixnFND",
        "outputId": "a405710a-84d7-4eb8-ad11-752dac13b867"
      },
      "outputs": [
        {
          "name": "stdout",
          "output_type": "stream",
          "text": [
            "Tapez le résumé du probème que vous rencontrez         python error\n"
          ]
        }
      ],
      "source": [
        "summary_utilisateur=str(input('Tapez le résumé du probème que vous rencontrez         '))\n",
        "while summary_utilisateur == '':\n",
        "  summary_utilisateur=str(input('Tapez le résumé du probème que vous rencontrez         '))\n",
        "\n",
        "\n",
        "\n"
      ]
    },
    {
      "cell_type": "code",
      "execution_count": null,
      "metadata": {
        "id": "NWK5Ftv6mxin"
      },
      "outputs": [],
      "source": [
        "embeddingsu=model.encode(summary_utilisateur)"
      ]
    },
    {
      "cell_type": "code",
      "execution_count": null,
      "metadata": {
        "id": "jV26j37R_wJn"
      },
      "outputs": [],
      "source": [
        "import numpy as np\n",
        "\n",
        "# Create an empty array with the appropriate shape and data type\n",
        "embeddings_summary = np.empty((len(merged_df),), dtype=object)\n",
        "\n",
        "# Populate the array with values from the 'embeddingsSummary' column\n",
        "for i in merged_df.index:\n",
        "    embeddings_summary[i] = merged_df.loc[i, 'embeddingsSummary']\n"
      ]
    },
    {
      "cell_type": "code",
      "execution_count": null,
      "metadata": {
        "id": "7RW1vXVt9Xu4"
      },
      "outputs": [],
      "source": [
        "# Ensure embeddingsu is a 1D numpy array or reshape it accordingly\n",
        "embeddingsu = embeddingsu.reshape(1, -1)\n",
        "\n"
      ]
    },
    {
      "cell_type": "code",
      "execution_count": null,
      "metadata": {
        "colab": {
          "base_uri": "https://localhost:8080/"
        },
        "id": "z8b4RbXY9gQw",
        "outputId": "e317cbb2-f4d4-4c88-b4d0-b1413e10c939"
      },
      "outputs": [
        {
          "name": "stdout",
          "output_type": "stream",
          "text": [
            "Similarity between 'plpy import problems' and 'python error': 0.545191764831543\n",
            "Similarity between 'm4 keyword conflict with python' and 'python error': 0.5259153842926025\n",
            "Similarity between 'compile error' and 'python error': 0.5202348232269287\n",
            "Similarity between 'error in function' and 'python error': 0.6073518991470337\n",
            "Similarity between 'Error' and 'python error': 0.6749846339225769\n"
          ]
        }
      ],
      "source": [
        "for i in range(len(embeddings_summary)):\n",
        "    similarity_matrix = cosine_similarity(embeddings_summary[i].reshape(1, -1), embeddingsu)\n",
        "    cosine_similarity_value = similarity_matrix[0][0]\n",
        "    if cosine_similarity_value >= 0.5:\n",
        "        summary_text = merged_df.loc[i, 'Summary']\n",
        "        print(f\"Similarity between '{summary_text}' and '{summary_utilisateur}': {cosine_similarity_value}\")"
      ]
    },
    {
      "cell_type": "code",
      "execution_count": null,
      "metadata": {
        "colab": {
          "base_uri": "https://localhost:8080/"
        },
        "id": "v0QuYZpsHpy5",
        "outputId": "48a397c9-660b-477b-c751-ceb662c6cb60"
      },
      "outputs": [
        {
          "name": "stderr",
          "output_type": "stream",
          "text": [
            "[nltk_data] Downloading package punkt to /root/nltk_data...\n",
            "[nltk_data]   Unzipping tokenizers/punkt.zip.\n",
            "[nltk_data] Downloading package wordnet to /root/nltk_data...\n",
            "[nltk_data] Downloading package stopwords to /root/nltk_data...\n",
            "[nltk_data]   Unzipping corpora/stopwords.zip.\n"
          ]
        }
      ],
      "source": [
        "import nltk\n",
        "from nltk.tokenize import word_tokenize\n",
        "from nltk.corpus import stopwords\n",
        "from nltk.stem import WordNetLemmatizer\n",
        "from sklearn.feature_extraction.text import TfidfVectorizer\n",
        "from sklearn.metrics.pairwise import cosine_similarity\n",
        "nltk.download('punkt')\n",
        "nltk.download('wordnet')\n",
        "nltk.download('stopwords')\n",
        "\n",
        "\n",
        "\n",
        "stop_words = set(stopwords.words('english'))\n",
        "lemmatizer = WordNetLemmatizer()\n",
        "vectorizer = TfidfVectorizer()\n"
      ]
    },
    {
      "cell_type": "code",
      "execution_count": null,
      "metadata": {
        "id": "d_yczbWZgEhU"
      },
      "outputs": [],
      "source": [
        "all_tokens=[]\n",
        "for i in df['Summary']:\n",
        "  tokens = nltk.word_tokenize(i)\n",
        "  tokens = [lemmatizer.lemmatize(token) for token in tokens]\n",
        "  tokens = [token for token in tokens if token not in stop_words]\n",
        "  print(tokens)\n",
        "  all_tokens.append(tokens)\n",
        "\n",
        "\n",
        "\n",
        "\n",
        "\n"
      ]
    },
    {
      "cell_type": "code",
      "execution_count": null,
      "metadata": {
        "id": "IE0N527fs4S8"
      },
      "outputs": [],
      "source": [
        "len(all_tokens)\n",
        "\n",
        "\n",
        "\n"
      ]
    },
    {
      "cell_type": "code",
      "execution_count": null,
      "metadata": {
        "id": "m9y5DkrVQcpH"
      },
      "outputs": [],
      "source": [
        "empty_lists = [sublist for sublist in all_tokens if len(sublist) == 0]\n",
        "\n",
        "\n",
        "if empty_lists:\n",
        "    print(\"The following lists are empty:\")\n",
        "    for i, sublist in enumerate(empty_lists):\n",
        "        print(f\"List {i + 1}: {sublist}\")\n",
        "else:\n",
        "    print(\"There are no empty lists.\")"
      ]
    },
    {
      "cell_type": "code",
      "execution_count": null,
      "metadata": {
        "colab": {
          "base_uri": "https://localhost:8080/"
        },
        "id": "N5Qd-CG5Q0PE",
        "outputId": "c6d846c7-c4cc-402d-93bb-22d057a4f23a"
      },
      "outputs": [
        {
          "data": {
            "text/plain": [
              "20040"
            ]
          },
          "execution_count": 78,
          "metadata": {},
          "output_type": "execute_result"
        }
      ],
      "source": [
        "for i in reversed(all_tokens):\n",
        "    if len(i) == 0:\n",
        "        all_tokens.remove(i)\n",
        "len(all_tokens)\n",
        "\n"
      ]
    },
    {
      "cell_type": "code",
      "execution_count": null,
      "metadata": {
        "id": "nN9pwhIjtV2w"
      },
      "outputs": [],
      "source": [
        "all_tokens[:10]\n",
        "\n",
        "\n",
        "\n",
        "\n",
        "\n"
      ]
    },
    {
      "cell_type": "code",
      "execution_count": null,
      "metadata": {
        "colab": {
          "base_uri": "https://localhost:8080/"
        },
        "id": "w-uJd6uaJyy1",
        "outputId": "5fd1a29a-5320-4c00-da83-41b0d47d3ff1"
      },
      "outputs": [
        {
          "name": "stdout",
          "output_type": "stream",
          "text": [
            "[['plugin', 'config-import', 'found', 'jfrog', 'Artifactory', 'cloud', 'implementation']]\n",
            "  (0, 7968)\t0.30297671516658375\n",
            "  (0, 6017)\t0.4171709560509621\n",
            "  (0, 5295)\t0.3392869543879732\n",
            "  (0, 5281)\t0.3252472478172802\n",
            "  (0, 4240)\t0.3527050674883263\n",
            "  (0, 2154)\t0.3605222812846478\n",
            "  (0, 1914)\t0.444894161917785\n",
            "  (0, 906)\t0.24690908978944343\n"
          ]
        }
      ],
      "source": [
        "from sklearn.feature_extraction.text import TfidfVectorizer\n",
        "\n",
        "\n",
        "vectorizer = TfidfVectorizer()\n",
        "\n",
        "\n",
        "vectorizer.fit([\" \".join(tokens) for tokens in all_tokens])\n",
        "\n",
        "tokens1 = all_tokens[:1]\n",
        "print(tokens1)\n",
        "text = \" \".join(tokens1[0])\n",
        "matrice = vectorizer.transform([text])\n",
        "print(matrice)"
      ]
    },
    {
      "cell_type": "code",
      "execution_count": null,
      "metadata": {
        "colab": {
          "base_uri": "https://localhost:8080/"
        },
        "id": "869VohszJy1X",
        "outputId": "4926f8f8-3d24-456a-d208-072777533c78"
      },
      "outputs": [
        {
          "name": "stdout",
          "output_type": "stream",
          "text": [
            "[['UI', 'Native', 'return', '404', 'Artifacts', 'Cached', 'Remote', 'Repositories']]\n",
            "  (0, 10791)\t0.31567736409952385\n",
            "  (0, 8987)\t0.28560136174448547\n",
            "  (0, 8857)\t0.4149430587092495\n",
            "  (0, 8777)\t0.2799424232886415\n",
            "  (0, 7119)\t0.33333425625657925\n",
            "  (0, 1585)\t0.39579954260803\n",
            "  (0, 914)\t0.4109220802192971\n",
            "  (0, 237)\t0.36277844657939684\n"
          ]
        }
      ],
      "source": [
        "tokens2= all_tokens[1:2]\n",
        "print(tokens2) # Get the first list of tokens\n",
        "text = \" \".join(tokens2[0])  # Join the tokens into a single string\n",
        "matrice2 = vectorizer.transform([text])\n",
        "print(matrice2)"
      ]
    },
    {
      "cell_type": "code",
      "execution_count": null,
      "metadata": {
        "colab": {
          "base_uri": "https://localhost:8080/"
        },
        "id": "z71yR9trJy3v",
        "outputId": "32b77ee3-7ed5-42c2-914a-ee463022df21"
      },
      "outputs": [
        {
          "name": "stdout",
          "output_type": "stream",
          "text": [
            "0.0\n"
          ]
        }
      ],
      "source": [
        "cosine_sim = cosine_similarity(matrice, matrice2)\n",
        "round_cosine=round(cosine_sim[0][0], 2)\n",
        "\n",
        "\n",
        "\n",
        "print(round_cosine)"
      ]
    },
    {
      "cell_type": "code",
      "execution_count": null,
      "metadata": {
        "id": "BZpYiNMKJy6J"
      },
      "outputs": [],
      "source": [
        "matrices = []\n",
        "\n",
        "for tokens in all_tokens:\n",
        "    # Join the tokens into a single string\n",
        "    text = \" \".join(tokens)\n",
        "\n",
        "    # Apply the vectorizer to the text\n",
        "    matrice = vectorizer.transform([text])\n",
        "\n",
        "    # Append the resulting matrix to the list of matrices\n",
        "    matrices.append(matrice)\n",
        "\n",
        "# Print the list of matrices\n",
        "for i, matrice in enumerate(matrices):\n",
        "    print(f\"Matrix {i+1}:\")\n",
        "    print(matrice)\n"
      ]
    },
    {
      "cell_type": "code",
      "execution_count": null,
      "metadata": {
        "id": "xPiOISizJy9s"
      },
      "outputs": [],
      "source": [
        "from sklearn.metrics.pairwise import cosine_similarity\n",
        "\n",
        "# Calculate cosine similarity between all pairs of matrices\n",
        "cosine_similarities = []\n",
        "for i in range(len(matrices)):\n",
        "    for j in range(i+1, len(matrices)):\n",
        "        cosine_sim = cosine_similarity(matrices[i], matrices[j])\n",
        "        cosine_similarities.append((i, j, cosine_sim[0][0]))\n",
        "\n",
        "# Print cosine similarities\n",
        "for i, j, sim in cosine_similarities:\n",
        "    print(f\"Cosine similarity between matrix {i+1} and matrix {j+1}: {sim}\")\n"
      ]
    },
    {
      "cell_type": "code",
      "execution_count": null,
      "metadata": {
        "id": "eQjbISjAJzDE"
      },
      "outputs": [],
      "source": []
    },
    {
      "cell_type": "code",
      "execution_count": null,
      "metadata": {
        "id": "gFliN6JpJzGZ"
      },
      "outputs": [],
      "source": []
    }
  ],
  "metadata": {
    "colab": {
      "gpuType": "T4",
      "provenance": []
    },
    "kernelspec": {
      "display_name": "Python 3",
      "name": "python3"
    },
    "language_info": {
      "codemirror_mode": {
        "name": "ipython",
        "version": 3
      },
      "file_extension": ".py",
      "mimetype": "text/x-python",
      "name": "python",
      "nbconvert_exporter": "python",
      "pygments_lexer": "ipython3",
      "version": "3.9.13"
    }
  },
  "nbformat": 4,
  "nbformat_minor": 0
}
